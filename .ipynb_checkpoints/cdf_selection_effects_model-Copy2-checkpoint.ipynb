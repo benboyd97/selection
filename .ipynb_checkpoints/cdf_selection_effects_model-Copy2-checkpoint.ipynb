{
 "cells": [
  {
   "cell_type": "code",
   "execution_count": 1,
   "metadata": {},
   "outputs": [],
   "source": [
    "import numpy as np\n",
    "from matplotlib import pyplot as plt\n",
    "import numpyro\n",
    "from numpyro.infer import MCMC, NUTS, Predictive\n",
    "import numpyro.distributions as dist\n",
    "from numpyro.diagnostics import hpdi\n",
    "from jax import random\n",
    "import jax\n",
    "\n",
    "from jax.scipy.stats import norm\n",
    "from jax.scipy.special import ndtri\n",
    "#assert numpyro.__version__.startswith(\"0.11.0\")\n",
    "\n",
    "numpyro.set_host_device_count(4)\n",
    "jax.config.update('jax_enable_x64',True)\n",
    "\n",
    "\n",
    "import jax_cosmo as jc\n",
    "from jax_cosmo import Cosmology, background\n",
    "\n",
    "from astropy.cosmology import FlatLambdaCDM,wCDM\n",
    "from astropy.coordinates import Distance\n",
    "\n",
    "from numpyro import sample\n",
    "\n",
    "import numpyro.distributions as dist\n",
    "\n",
    "import jax.numpy as jnp\n",
    "from jax import grad, jit, vmap, value_and_grad\n",
    "from numpyro.distributions.truncated import TruncatedDistribution \n",
    "from numpyro.distributions import (\n",
    "    Distribution,\n",
    "    constraints)\n",
    "from numpyro.distributions.util import is_prng_key, promote_shapes, validate_sample\n",
    "from jax import lax\n",
    "from SkewNormalPlus import SkewNormalPlus"
   ]
  },
  {
   "cell_type": "code",
   "execution_count": 2,
   "metadata": {},
   "outputs": [],
   "source": [
    "\n",
    "import numpyro\n",
    "from NSF import NeuralSpline1D\n",
    "from flow import Normal,Flow,transform,Serial\n",
    "from SkewNormalPlus import SkewNormalPlus as snp\n",
    "\n",
    "@jit\n",
    "def minmax_fit_and_scale(X):\n",
    "  max= jnp.max(X,axis=0)\n",
    "  min = jnp.min(X,axis=0)\n",
    "  X_std = (X - min) / (max-min)\n",
    "  return X_std,min,max\n",
    "\n",
    "@jit\n",
    "def minmax_scale(X,min,max):\n",
    "  return (X - min) / (max - min)\n",
    "\n",
    "@jit\n",
    "def minmax_unscale(X,min,max):\n",
    "  return X * (max - min) + min\n",
    "\n",
    "from jax.example_libraries import stax, optimizers\n",
    "\n",
    "from jax.example_libraries.stax import (Dense, Tanh, Flatten, Relu, LogSoftmax, Softmax, Exp,Sigmoid,Softplus,LeakyRelu)\n",
    "\n",
    "def network(rng,conditional_dim,out_dim, hidden_dim):\n",
    "    init_fun,apply_fun=stax.serial(stax.Dense(hidden_dim), Relu, stax.Dense(1024),  Relu, stax.Dense(1024),Relu,stax.Dense(hidden_dim), Relu, stax.Dense(out_dim),)\n",
    "    _, params = init_fun(rng, (conditional_dim,))\n",
    "\n",
    "    return params,apply_fun\n",
    "\n",
    "rng, flow_rng = random.split(random.PRNGKey(0))\n",
    "\n",
    "init_fun = Flow(Serial(*(NeuralSpline1D(network,hidden_dim=256,K=40,B=5),)*5),prior=Normal())\n",
    "\n",
    "_, log_pdf_flow, sample_flow = init_fun(flow_rng,2 )\n",
    "\n"
   ]
  },
  {
   "cell_type": "code",
   "execution_count": 3,
   "metadata": {},
   "outputs": [],
   "source": [
    "class FlowSNP(Distribution):\n",
    "    arg_constraints = {\"m_int\": constraints.real, \"sigma_int\": constraints.real,\"m_cut\": constraints.real, \"sigma_cut\": constraints.real}\n",
    "    support = constraints.real\n",
    "    reparametrized_params = [\"m_int\", \"sigma_int\",\"m_cut\",\"sigma_cut\"]\n",
    "\n",
    "    def __init__(self,m_int,sigma_int,m_cut,sigma_cut,*, validate_args=None,res=1000):\n",
    "\n",
    "\n",
    "        \n",
    "        self.m_int, self.sigma_int,self.m_cut,self.sigma_cut = promote_shapes(m_int,sigma_int,m_cut,sigma_cut)\n",
    "\n",
    "\n",
    "        batch_shape = lax.broadcast_shapes(jnp.shape(m_int), jnp.shape(sigma_int),jnp.shape(m_int), jnp.shape(sigma_int))\n",
    "        \n",
    "        n_obj = m_int.shape[0]\n",
    "        \n",
    "        \n",
    "        self.n_obj=n_obj\n",
    "        \n",
    "        file = np.load('flow2d.npz',allow_pickle=True)\n",
    "        self.params = file['params']\n",
    "        self.min = file['min']\n",
    "        self.max = file['max']\n",
    "\n",
    "        super(FlowSNP, self).__init__(\n",
    "            batch_shape=batch_shape, validate_args=validate_args\n",
    "        )\n",
    "        \n",
    "\n",
    "    def sample(self,key, sample_shape=()):\n",
    "        assert is_prng_key(key)\n",
    "        \n",
    "        no_samps = sample_shape[0]\n",
    "        \n",
    "        self.no_samps = no_samps\n",
    "        \n",
    "        theta = jnp.column_stack((jnp.repeat(self.m_int.reshape(self.n_obj),no_samps).reshape(no_samps*self.n_obj,1),jnp.repeat(self.sigma_int,no_samps*self.n_obj).reshape(no_samps*self.n_obj,1)))\n",
    "        \n",
    "        samp=sample_flow(key, self.params,minmax_scale(theta,self.min[1:],self.max[1:]),num_samples=self.no_samps*self.n_obj)\n",
    "        \n",
    "        samp = minmax_unscale(samp[:,0],self.min[0],self.max[0])\n",
    "        \n",
    "        \n",
    "        \n",
    "        return samp.reshape(self.n_obj,self.no_samps).T\n",
    "    \n",
    "    @validate_sample \n",
    "    def log_prob(self, value):\n",
    "        \n",
    "\n",
    "        theta=jnp.column_stack((self.m_int.reshape(self.n_obj,1),jnp.repeat(self.sigma_int,self.n_obj).reshape(self.n_obj,1)))       \n",
    "        \n",
    "        value = value.reshape(self.n_obj,1)\n",
    "        \n",
    "                \n",
    "\n",
    "        return log_pdf_flow(self.params,minmax_scale(jnp.column_stack((value,theta)),self.min,self.max)).reshape(self.n_obj,)\n",
    "\n",
    "\n"
   ]
  },
  {
   "cell_type": "code",
   "execution_count": 4,
   "metadata": {},
   "outputs": [
    {
     "data": {
      "image/png": "[encoded data removed]",
      "text/plain": [
       "<Figure size 576x432 with 1 Axes>"
      ]
     },
     "metadata": {
      "needs_background": "light"
     },
     "output_type": "display_data"
    },
    {
     "name": "stdout",
     "output_type": "stream",
     "text": [
      "52158\n"
     ]
    }
   ],
   "source": [
    "\n",
    "\n",
    "def sample_model(z_s,mag_s=None,sel_s=None,M0=-19.5,sigma_int=0.1,h=0.7324,Om0=0.28,w=-1,mu_cut=21,sigma_cut=0.01):\n",
    "\n",
    "    cosmo_jax = Cosmology(Omega_c=Om0, h=h, w0=w, Omega_b=0, n_s= 0.96, sigma8=200000, Omega_k=0, wa=0)\n",
    "\n",
    "    \n",
    "    n_sne=len(z_s)\n",
    "    \n",
    "    with numpyro.plate(\"plate_i\",n_sne):\n",
    "        \n",
    "        \n",
    "        d_s=background.transverse_comoving_distance(cosmo_jax, 1/(1+z_s))\n",
    "    \n",
    "        mu_s=5*jnp.log10((1+z_s)/h*d_s*1e6/10)\n",
    "        \n",
    "\n",
    "        \n",
    "        m_s=numpyro.sample(\"m_s\", dist.Normal(M0+mu_s, sigma_int), obs=mag_s)\n",
    "        \n",
    "        p_s=norm.cdf(-m_s,loc=-mu_cut,scale=sigma_cut)\n",
    "        \n",
    "        sel_s=numpyro.sample(\"sel_s\",dist.Bernoulli(p_s),obs=sel_s)\n",
    "        \n",
    "\n",
    "def model_flat(z_s,m_s=None,sel_s=None,h=0.7324,w=-1,mu_cut=21,sigma_cut=0.01):\n",
    "\n",
    "    \n",
    "    M0=numpyro.sample('M0', dist.ImproperUniform(dist.constraints.real,(),event_shape=()))\n",
    "    sigma_int = numpyro.sample(\"sigma_int\", dist.HalfNormal(0.2))\n",
    "    Om0=numpyro.sample('Om0',dist.Uniform(0,1))\n",
    "    \n",
    "    cosmo_jax = Cosmology(Omega_c=Om0, h=h, w0=w, Omega_b=0, n_s= 0.96, sigma8=200000, Omega_k=0, wa=0)\n",
    "\n",
    "    \n",
    "    n_sne=len(z_s)\n",
    "    \n",
    "    with numpyro.plate(\"plate_i\",n_sne):\n",
    "        \n",
    "        \n",
    "        d_s=background.transverse_comoving_distance(cosmo_jax, 1/(1+z_s))\n",
    "    \n",
    "        mu_s=5*jnp.log10((1+z_s)/h*d_s*1e6/10)\n",
    "        \n",
    "        m_0 = M0 + mu_s\n",
    "        \n",
    "        m_s=numpyro.sample(\"m_s\", FlowSNP(m_int=m_0, sigma_int=sigma_int,\n",
    "                                                m_cut=mu_cut,sigma_cut=sigma_cut), obs=m_s)\n",
    "        \n",
    "        #m_s=numpyro.sample(\"m_s\", SkewNormalPlus(m_int=m_0, sigma_int=sigma_int,\n",
    "         #                                       m_cut=mu_cut,sigma_cut=sigma_cut), obs=m_s)\n",
    "        \n",
    "        \n",
    "  \n",
    "\n",
    "        \n",
    "def naive_sample_model(z_s,mag_s=None,M0=-19.5,sigma_int=0.1,h=0.7324,Om0=0.28,w=-1):\n",
    "\n",
    "    cosmo_jax = Cosmology(Omega_c=Om0, h=h, w0=w, Omega_b=0, n_s= 0.96, sigma8=200000, Omega_k=0, wa=0)\n",
    "\n",
    "    n_sne=len(z_s)\n",
    "    \n",
    "    with numpyro.plate(\"plate_i\",n_sne):\n",
    "        \n",
    "        \n",
    "        d_s=background.transverse_comoving_distance(cosmo_jax, 1/(1+z_s))\n",
    "    \n",
    "        mu_s=5*jnp.log10((1+z_s)/h*d_s*1e6/10)\n",
    "        \n",
    "        m_s=numpyro.sample(\"m_s\", dist.Normal(M0+mu_s, sigma_int), obs=mag_s)\n",
    "        \n",
    "        \n",
    "        \n",
    "def naive_model_flat(z_s,m_s=None,h=0.7324,w=-1):\n",
    "\n",
    "    \n",
    "    M0=numpyro.sample('M0', dist.ImproperUniform(dist.constraints.real,(),event_shape=()))\n",
    "    sigma_int = numpyro.sample(\"sigma_int\", dist.HalfCauchy(1))\n",
    "    Om0=numpyro.sample('Om0',dist.Uniform(0,1))\n",
    "    \n",
    "    cosmo_jax = Cosmology(Omega_c=Om0, h=h, w0=w, Omega_b=0, n_s= 0.96, sigma8=200000, Omega_k=0, wa=0)\n",
    "\n",
    "    \n",
    "    n_sne=len(z_s)\n",
    "    \n",
    "    with numpyro.plate(\"plate_i\",n_sne):\n",
    "        \n",
    "        \n",
    "        d_s=background.transverse_comoving_distance(cosmo_jax, 1/(1+z_s))\n",
    "    \n",
    "        mu_s=5*jnp.log10((1+z_s)/h*d_s*1e6/10)\n",
    "        \n",
    "        m_s=numpyro.sample(\"m_s\", dist.Normal(M0+mu_s, sigma_int), obs=m_s)\n",
    "        \n",
    "\n",
    "\n",
    "        \n",
    "u=np.random.rand(100000)\n",
    "\n",
    "z_s=jnp.asarray((3*u)**(1/3)/(3)**(1/3)*1.2)\n",
    "\n",
    "#z_s = jnp.array(u*(0.3-0.215) + 0.215)\n",
    "\n",
    "seed=1701\n",
    "\n",
    "rng_key = jax.random.PRNGKey(seed)\n",
    "rng_key, rng_key_ = random.split(rng_key)\n",
    "prior_predictive = Predictive(sample_model, num_samples=1)\n",
    "prior_predictions = prior_predictive(rng_key_,z_s)\n",
    "\n",
    "m_sim = prior_predictions[\"m_s\"][0,:]\n",
    "sel_sim = prior_predictions[\"sel_s\"][0,:]\n",
    "\n",
    "plt.figure(figsize=(8,6))\n",
    "plt.scatter(z_s,m_sim,color='blue',label='All')\n",
    "plt.scatter(z_s[sel_sim==1],m_sim[sel_sim==1],color='red',label='Observed')\n",
    "plt.ylabel('$m$')\n",
    "plt.xlabel('$z$')\n",
    "plt.legend()\n",
    "plt.show()\n",
    "print(len(m_sim[sel_sim==1]))"
   ]
  },
  {
   "cell_type": "code",
   "execution_count": 5,
   "metadata": {},
   "outputs": [
    {
     "data": {
      "image/png": "[encoded data removed]",
      "text/plain": [
       "<Figure size 432x288 with 1 Axes>"
      ]
     },
     "metadata": {
      "needs_background": "light"
     },
     "output_type": "display_data"
    }
   ],
   "source": [
    "plt.hist(z_s,bins=100,density=True)\n",
    "plt.hist(z_s[sel_sim==1],bins=100,density=True)\n",
    "plt.show()"
   ]
  },
  {
   "cell_type": "code",
   "execution_count": 6,
   "metadata": {},
   "outputs": [
    {
     "name": "stdout",
     "output_type": "stream",
     "text": [
      "(100000,)\n",
      "(52158,)\n"
     ]
    }
   ],
   "source": [
    "print(z_s.shape)\n",
    "print(sel_sim[sel_sim==1].shape)"
   ]
  },
  {
   "cell_type": "code",
   "execution_count": null,
   "metadata": {},
   "outputs": [
    {
     "data": {
      "application/vnd.jupyter.widget-view+json": {
       "model_id": "878af0579d064252970064313a0cf118",
       "version_major": 2,
       "version_minor": 0
      },
      "text/plain": [
       "  0%|          | 0/2000 [00:00<?, ?it/s]"
      ]
     },
     "metadata": {},
     "output_type": "display_data"
    },
    {
     "data": {
      "application/vnd.jupyter.widget-view+json": {
       "model_id": "569dc5f3d6d74f07844be75142eeda5f",
       "version_major": 2,
       "version_minor": 0
      },
      "text/plain": [
       "  0%|          | 0/2000 [00:00<?, ?it/s]"
      ]
     },
     "metadata": {},
     "output_type": "display_data"
    },
    {
     "data": {
      "application/vnd.jupyter.widget-view+json": {
       "model_id": "c4bb3d7ce22249978de867a14cd20b5f",
       "version_major": 2,
       "version_minor": 0
      },
      "text/plain": [
       "  0%|          | 0/2000 [00:00<?, ?it/s]"
      ]
     },
     "metadata": {},
     "output_type": "display_data"
    },
    {
     "data": {
      "application/vnd.jupyter.widget-view+json": {
       "model_id": "663bf5f6aa0f4bb8a2523eef6f4f13c7",
       "version_major": 2,
       "version_minor": 0
      },
      "text/plain": [
       "  0%|          | 0/2000 [00:00<?, ?it/s]"
      ]
     },
     "metadata": {},
     "output_type": "display_data"
    }
   ],
   "source": [
    "nuts_kernel = NUTS(model_flat,adapt_step_size=True)\n",
    "#nuts_kernel = NUTS(model_flat,adapt_step_size=True)\n",
    "mcmc = MCMC(nuts_kernel, num_samples=1000, num_warmup=1000,num_chains=4)\n",
    "rng_key = random.PRNGKey(0)\n",
    "#mcmc.run(rng_key, z_s,m_s= m_sim)\n",
    "\n",
    "\n",
    "\n",
    "\n",
    "#mcmc.run(rng_key, z_s[sel_sim==1.],m_s= m_sim[sel_sim==1.],sel_s=sel_sim[sel_sim==1.])\n",
    "\n",
    "\n",
    "mcmc.run(rng_key, z_s[sel_sim==1.],m_s= m_sim[sel_sim==1.])\n",
    "\n",
    "\n"
   ]
  },
  {
   "cell_type": "code",
   "execution_count": null,
   "metadata": {},
   "outputs": [],
   "source": [
    "import corner\n",
    "mcmc.print_summary()\n",
    "posterior_samples = mcmc.get_samples()\n",
    "a=['M0', 'Om0', 'sigma_int']\n",
    "\n",
    "\n",
    "samps=np.zeros((len(a),4000))\n",
    "\n",
    "for i in range(len(a)):\n",
    "    samps[i,:]=posterior_samples[a[i]]\n",
    "\n",
    "\n",
    "corner.corner(samps.T,labels=a,truths=[-19.5,0.28,0.1])\n",
    "plt.show()"
   ]
  },
  {
   "cell_type": "code",
   "execution_count": null,
   "metadata": {},
   "outputs": [],
   "source": []
  },
  {
   "cell_type": "code",
   "execution_count": null,
   "metadata": {},
   "outputs": [],
   "source": [
    "\n",
    "nuts_kernel = NUTS(naive_model_flat,adapt_step_size=True)\n",
    "mcmc2 = MCMC(nuts_kerne\n",
    "             l, num_samples=1000, num_warmup=1000,num_chains=4)\n",
    "rng_key = random.PRNGKey(0)\n",
    "#mcmc.run(rng_key, z_s,m_s= m_sim)\n",
    "mcmc2.run(rng_key, z_s[sel_sim==1.],m_s= m_sim[sel_sim==1.])\n"
   ]
  },
  {
   "cell_type": "code",
   "execution_count": null,
   "metadata": {},
   "outputs": [],
   "source": [
    "\\import corner\n",
    "mcmc2.print_summary()\n",
    "posterior_samples2 = mcmc2.get_samples()\n",
    "a=['M0', 'Om0', 'sigma_int']\n",
    "\n",
    "\n",
    "samps2=np.zeros((len(a),4000))\n",
    "\n",
    "for i in range(len(a)):\n",
    "    samps2[i,:]=posterior_samples[a[i]]\n",
    "\n",
    "\n",
    "corner.corner(samps2.T,labels=a,truths=[-19.5,0.28,0.1])\n",
    "plt.show()"
   ]
  },
  {
   "cell_type": "code",
   "execution_count": null,
   "metadata": {
    "scrolled": true
   },
   "outputs": [],
   "source": [
    "import corner\n",
    "import matplotlib.lines as mlines\n",
    "import matplotlib \n",
    "\n",
    "matplotlib.rcParams.update({'font.size': 14})\n",
    "\n",
    "\n",
    "\n",
    "\n",
    "a=['M0','Om0','sigma_int']\n",
    "\n",
    "posterior_samples = mcmc.get_samples()\n",
    "\n",
    "\n",
    "samps=np.zeros((len(a),4000))\n",
    "\n",
    "for i in range(len(a)):\n",
    "    samps[i,:]=posterior_samples[a[i]]\n",
    "\n",
    "\n",
    "truths_arr=[-19.5,0.28,0.1]\n",
    "\n",
    "\n",
    "\n",
    "fig=corner.corner(samps.T,truths=truths_arr,smooth=0.9,\n",
    "    label_kwargs=dict(fontsize=35),\n",
    "    title_kwargs=dict(fontsize=16),\n",
    "    levels=(1 - np.exp(-0.5), 1 - np.exp(-2), 1 - np.exp(-9 / 2.)),\n",
    "    plot_density=False,\n",
    "    plot_datapoints=False,\n",
    "    fill_contours=False,\n",
    "    show_titles=False,\n",
    "    max_n_ticks=3,truth_color='black',color='green',labelpad=0.15,title_fmt='.3f')\n",
    "\n",
    "\n",
    "posterior_samples2 = mcmc2.get_samples()\n",
    "\n",
    "\n",
    "samps2=np.zeros((len(a),4000))\n",
    "\n",
    "for i in range(len(a)):\n",
    "    samps2[i,:]=posterior_samples2[a[i]]\n",
    "\n",
    "\n",
    "\n",
    "corner.corner(samps2.T,labels=[r'$M_0$',r'$\\Omega_{m0}$',r'$\\sigma_{int}$'],truths=truths_arr,smooth=0.9,\n",
    "    label_kwargs=dict(fontsize=15),\n",
    "    title_kwargs=dict(fontsize=15),\n",
    "  \n",
    "    levels=(1 - np.exp(-0.5), 1 - np.exp(-2), 1 - np.exp(-9 / 2.)),\n",
    "    plot_density=False,\n",
    "    plot_datapoints=False,\n",
    "    fill_contours=False,\n",
    "    show_titles=False,\n",
    "    max_n_ticks=3,color='red',truth_color='black',labelpad=0.15,title_fmt='.3f',fig=fig)\n",
    "\n",
    "\n",
    "red_line = mlines.Line2D([], [], color='red', label=r'No Selection Model',linewidth=10)\n",
    "green_line = mlines.Line2D([], [], color='green', label=r'CDF Selection Model',linewidth=10)\n",
    "plt.legend(handles=[red_line,green_line],fontsize=15, frameon=False,bbox_to_anchor=(1, 2.5, 0.1, 0.1),loc='upper right')\n",
    "plt.savefig('panth_corner.pdf',bbox_inches='tight',pad_inches=0.1)\n",
    "plt.show()"
   ]
  },
  {
   "cell_type": "code",
   "execution_count": null,
   "metadata": {},
   "outputs": [],
   "source": [
    "mcmc.print_summary()\n",
    "mcmc2.print_summary()"
   ]
  },
  {
   "cell_type": "code",
   "execution_count": null,
   "metadata": {},
   "outputs": [],
   "source": [
    "from astropy.cosmology import FlatLambdaCDM\n",
    "from astropy.coordinates import Distance\n",
    "\n",
    "sne=1000\n",
    "\n",
    "u=np.random.rand(sne)\n",
    "\n",
    "red=(3*u)**(1/3)/(3)**(1/3)*1.2\n",
    "\n",
    "noise=np.random.normal(0,0.1,sne)\n",
    "\n",
    "\n",
    "cosmo = FlatLambdaCDM(H0=73.24, Om0=0.28)\n",
    "\n",
    "\n",
    "\n",
    "\n",
    "d=np.array(Distance(z=red, cosmology=cosmo))     \n",
    "\n",
    "mu=5*np.log10(d*1e6/10)+noise\n",
    "\n",
    "\n",
    "\n",
    "plt.scatter(red,mu,label='$\\Omega_{m0}=0.28,\\Omega_{\\Lambda 0}=0.72$')\n",
    "\n",
    "\n",
    "\n",
    "cosmo = FlatLambdaCDM(H0=73.24, Om0=1)\n",
    "d=np.array(Distance(z=red, cosmology=cosmo)) \n",
    "mu=5*np.log10(d*1e6/10)+noise     \n",
    "plt.scatter(red,mu,label='$\\Omega_{m0}=1,\\Omega_{\\Lambda 0}=0$')\n",
    "\n",
    "\n",
    "cosmo = FlatLambdaCDM(H0=73.24, Om0=0)\n",
    "\n",
    "d=np.array(Distance(z=red, cosmology=cosmo)) \n",
    "mu=5*np.log10(d*1e6/10)+noise     \n",
    "       \n",
    "plt.scatter(red,mu,label='$\\Omega_{m0}=0,\\Omega_{\\Lambda 0}=1$')\n",
    "plt.xlabel('Redshift')\n",
    "plt.ylabel('$\\mu$')\n",
    "plt.legend()\n",
    "plt.show()"
   ]
  },
  {
   "cell_type": "code",
   "execution_count": null,
   "metadata": {},
   "outputs": [],
   "source": [
    "plt.hist(red)"
   ]
  },
  {
   "cell_type": "code",
   "execution_count": null,
   "metadata": {},
   "outputs": [],
   "source": [
    "from scipy.stats import norm\n",
    "\n",
    "x=np.linspace(-0,40,100)\n",
    "norm.ppf(0.025)\n",
    "\n",
    "\n",
    "\n",
    "\n",
    "\n",
    "plt.plot(x,norm.cdf(-x,loc=-23,scale=1))\n",
    "\n",
    "\n",
    "\n",
    "plt.show()"
   ]
  },
  {
   "cell_type": "code",
   "execution_count": null,
   "metadata": {},
   "outputs": [],
   "source": [
    "from astropy.cosmology import FlatLambdaCDM\n",
    "from astropy.coordinates import Distance\n",
    "\n",
    "sne=10000\n",
    "\n",
    "u=np.random.rand(sne)\n",
    "\n",
    "red=(3*u)**(1/3)/(3)**(1/3)*1.2\n",
    "\n",
    "noise=np.random.normal(0,0.1,sne)\n",
    "\n",
    "\n",
    "cosmo = FlatLambdaCDM(H0=73.24, Om0=0.28)\n",
    "\n",
    "plt.title(r'$\\Omega_{m0}=0.28,\\Omega_{\\Lambda 0}=0.72$')\n",
    "\n",
    "\n",
    "d=np.array(Distance(z=red, cosmology=cosmo))     \n",
    "\n",
    "mu=5*np.log10(d*1e6/10)+noise\n",
    "\n",
    "\n",
    "m=-19.5+mu\n",
    "\n",
    "\n",
    "prob_sel=norm.cdf(-m,loc=-22,scale=1)\n",
    "print(m)\n",
    "\n",
    "draw=np.random.rand(sne)\n",
    "\n",
    "sel=np.zeros(sne)\n",
    "\n",
    "sel[draw<prob_sel]=1\n",
    "\n",
    "sel2=m<22\n",
    "\n",
    "\n",
    "plt.scatter(red,mu,label='All',color='black',s=2)\n",
    "\n",
    "plt.scatter(red[sel==1],mu[sel==1],label=r'Selected $\\Phi(22,1)$',color='blue',s=2)\n",
    "plt.scatter(red[sel2==1],mu[sel2==1],label=r'Selected $\\Theta(22)$',color='red',s=2)\n",
    "\n",
    "\n",
    "plt.xlabel(r'Redshift  $z_s$')\n",
    "plt.ylabel('Distance Modulus $\\mu_s$')\n",
    "plt.legend(frameon=False)\n",
    "plt.savefig('toyselec.pdf')\n",
    "plt.show()"
   ]
  },
  {
   "cell_type": "code",
   "execution_count": null,
   "metadata": {},
   "outputs": [],
   "source": [
    "bins=np.linspace(0,1.2,50)\n",
    "#plt.hist(red,bins=bins)\n",
    "plt.hist(red[sel==1],bins=bins)\n",
    "plt.show()"
   ]
  },
  {
   "cell_type": "code",
   "execution_count": null,
   "metadata": {},
   "outputs": [],
   "source": []
  }
 ],
 "metadata": {
  "anaconda-cloud": {},
  "kernelspec": {
   "display_name": "ml_env",
   "language": "python",
   "name": "ml_env"
  },
  "language_info": {
   "codemirror_mode": {
    "name": "ipython",
    "version": 3
   },
   "file_extension": ".py",
   "mimetype": "text/x-python",
   "name": "python",
   "nbconvert_exporter": "python",
   "pygments_lexer": "ipython3",
   "version": "3.10.4"
  }
 },
 "nbformat": 4,
 "nbformat_minor": 2
}
